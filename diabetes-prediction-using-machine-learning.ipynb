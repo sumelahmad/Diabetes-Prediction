{
 "cells": [
  {
   "cell_type": "markdown",
   "id": "d90ecd24",
   "metadata": {
    "_cell_guid": "b1076dfc-b9ad-4769-8c92-a6c4dae69d19",
    "_uuid": "8f2839f25d086af736a60e9eeb907d3b93b6e0e5",
    "papermill": {
     "duration": 0.008445,
     "end_time": "2025-02-06T18:47:37.108332",
     "exception": false,
     "start_time": "2025-02-06T18:47:37.099887",
     "status": "completed"
    },
    "tags": []
   },
   "source": [
    "Importing the Dependencies"
   ]
  },
  {
   "cell_type": "code",
   "execution_count": 1,
   "id": "456618d9",
   "metadata": {
    "execution": {
     "iopub.execute_input": "2025-02-06T18:47:37.122910Z",
     "iopub.status.busy": "2025-02-06T18:47:37.122506Z",
     "iopub.status.idle": "2025-02-06T18:47:39.490362Z",
     "shell.execute_reply": "2025-02-06T18:47:39.489209Z"
    },
    "papermill": {
     "duration": 2.377004,
     "end_time": "2025-02-06T18:47:39.492366",
     "exception": false,
     "start_time": "2025-02-06T18:47:37.115362",
     "status": "completed"
    },
    "tags": []
   },
   "outputs": [],
   "source": [
    "import numpy as np\n",
    "import pandas as pd\n",
    "from sklearn.preprocessing import StandardScaler\n",
    "from sklearn.model_selection import train_test_split\n",
    "from sklearn import svm\n",
    "from sklearn.metrics import accuracy_score"
   ]
  },
  {
   "cell_type": "markdown",
   "id": "838d1605",
   "metadata": {
    "papermill": {
     "duration": 0.006144,
     "end_time": "2025-02-06T18:47:39.505246",
     "exception": false,
     "start_time": "2025-02-06T18:47:39.499102",
     "status": "completed"
    },
    "tags": []
   },
   "source": [
    "# Data Collection and Analysis"
   ]
  },
  {
   "cell_type": "markdown",
   "id": "e95a9004",
   "metadata": {
    "papermill": {
     "duration": 0.006138,
     "end_time": "2025-02-06T18:47:39.518004",
     "exception": false,
     "start_time": "2025-02-06T18:47:39.511866",
     "status": "completed"
    },
    "tags": []
   },
   "source": [
    "PIMA Diabetes Dataset"
   ]
  },
  {
   "cell_type": "code",
   "execution_count": 2,
   "id": "7e38bd37",
   "metadata": {
    "execution": {
     "iopub.execute_input": "2025-02-06T18:47:39.532311Z",
     "iopub.status.busy": "2025-02-06T18:47:39.531805Z",
     "iopub.status.idle": "2025-02-06T18:47:39.552318Z",
     "shell.execute_reply": "2025-02-06T18:47:39.551218Z"
    },
    "papermill": {
     "duration": 0.030038,
     "end_time": "2025-02-06T18:47:39.554376",
     "exception": false,
     "start_time": "2025-02-06T18:47:39.524338",
     "status": "completed"
    },
    "tags": []
   },
   "outputs": [],
   "source": [
    "df = pd.read_csv('/kaggle/input/diabetes-csv/diabetes.csv')"
   ]
  },
  {
   "cell_type": "code",
   "execution_count": 3,
   "id": "8622a00c",
   "metadata": {
    "execution": {
     "iopub.execute_input": "2025-02-06T18:47:39.569052Z",
     "iopub.status.busy": "2025-02-06T18:47:39.568636Z",
     "iopub.status.idle": "2025-02-06T18:47:39.593141Z",
     "shell.execute_reply": "2025-02-06T18:47:39.592038Z"
    },
    "papermill": {
     "duration": 0.033742,
     "end_time": "2025-02-06T18:47:39.595021",
     "exception": false,
     "start_time": "2025-02-06T18:47:39.561279",
     "status": "completed"
    },
    "tags": []
   },
   "outputs": [
    {
     "data": {
      "text/html": [
       "<div>\n",
       "<style scoped>\n",
       "    .dataframe tbody tr th:only-of-type {\n",
       "        vertical-align: middle;\n",
       "    }\n",
       "\n",
       "    .dataframe tbody tr th {\n",
       "        vertical-align: top;\n",
       "    }\n",
       "\n",
       "    .dataframe thead th {\n",
       "        text-align: right;\n",
       "    }\n",
       "</style>\n",
       "<table border=\"1\" class=\"dataframe\">\n",
       "  <thead>\n",
       "    <tr style=\"text-align: right;\">\n",
       "      <th></th>\n",
       "      <th>Pregnancies</th>\n",
       "      <th>Glucose</th>\n",
       "      <th>BloodPressure</th>\n",
       "      <th>SkinThickness</th>\n",
       "      <th>Insulin</th>\n",
       "      <th>BMI</th>\n",
       "      <th>DiabetesPedigreeFunction</th>\n",
       "      <th>Age</th>\n",
       "      <th>Outcome</th>\n",
       "    </tr>\n",
       "  </thead>\n",
       "  <tbody>\n",
       "    <tr>\n",
       "      <th>0</th>\n",
       "      <td>6</td>\n",
       "      <td>148</td>\n",
       "      <td>72</td>\n",
       "      <td>35</td>\n",
       "      <td>0</td>\n",
       "      <td>33.6</td>\n",
       "      <td>0.627</td>\n",
       "      <td>50</td>\n",
       "      <td>1</td>\n",
       "    </tr>\n",
       "    <tr>\n",
       "      <th>1</th>\n",
       "      <td>1</td>\n",
       "      <td>85</td>\n",
       "      <td>66</td>\n",
       "      <td>29</td>\n",
       "      <td>0</td>\n",
       "      <td>26.6</td>\n",
       "      <td>0.351</td>\n",
       "      <td>31</td>\n",
       "      <td>0</td>\n",
       "    </tr>\n",
       "    <tr>\n",
       "      <th>2</th>\n",
       "      <td>8</td>\n",
       "      <td>183</td>\n",
       "      <td>64</td>\n",
       "      <td>0</td>\n",
       "      <td>0</td>\n",
       "      <td>23.3</td>\n",
       "      <td>0.672</td>\n",
       "      <td>32</td>\n",
       "      <td>1</td>\n",
       "    </tr>\n",
       "    <tr>\n",
       "      <th>3</th>\n",
       "      <td>1</td>\n",
       "      <td>89</td>\n",
       "      <td>66</td>\n",
       "      <td>23</td>\n",
       "      <td>94</td>\n",
       "      <td>28.1</td>\n",
       "      <td>0.167</td>\n",
       "      <td>21</td>\n",
       "      <td>0</td>\n",
       "    </tr>\n",
       "    <tr>\n",
       "      <th>4</th>\n",
       "      <td>0</td>\n",
       "      <td>137</td>\n",
       "      <td>40</td>\n",
       "      <td>35</td>\n",
       "      <td>168</td>\n",
       "      <td>43.1</td>\n",
       "      <td>2.288</td>\n",
       "      <td>33</td>\n",
       "      <td>1</td>\n",
       "    </tr>\n",
       "  </tbody>\n",
       "</table>\n",
       "</div>"
      ],
      "text/plain": [
       "   Pregnancies  Glucose  BloodPressure  SkinThickness  Insulin   BMI  \\\n",
       "0            6      148             72             35        0  33.6   \n",
       "1            1       85             66             29        0  26.6   \n",
       "2            8      183             64              0        0  23.3   \n",
       "3            1       89             66             23       94  28.1   \n",
       "4            0      137             40             35      168  43.1   \n",
       "\n",
       "   DiabetesPedigreeFunction  Age  Outcome  \n",
       "0                     0.627   50        1  \n",
       "1                     0.351   31        0  \n",
       "2                     0.672   32        1  \n",
       "3                     0.167   21        0  \n",
       "4                     2.288   33        1  "
      ]
     },
     "execution_count": 3,
     "metadata": {},
     "output_type": "execute_result"
    }
   ],
   "source": [
    "df.head()"
   ]
  },
  {
   "cell_type": "code",
   "execution_count": 4,
   "id": "fa60117f",
   "metadata": {
    "execution": {
     "iopub.execute_input": "2025-02-06T18:47:39.610123Z",
     "iopub.status.busy": "2025-02-06T18:47:39.609754Z",
     "iopub.status.idle": "2025-02-06T18:47:39.615175Z",
     "shell.execute_reply": "2025-02-06T18:47:39.614203Z"
    },
    "papermill": {
     "duration": 0.01457,
     "end_time": "2025-02-06T18:47:39.616798",
     "exception": false,
     "start_time": "2025-02-06T18:47:39.602228",
     "status": "completed"
    },
    "tags": []
   },
   "outputs": [
    {
     "data": {
      "text/plain": [
       "(768, 9)"
      ]
     },
     "execution_count": 4,
     "metadata": {},
     "output_type": "execute_result"
    }
   ],
   "source": [
    "df.shape"
   ]
  },
  {
   "cell_type": "code",
   "execution_count": 5,
   "id": "1107b06f",
   "metadata": {
    "execution": {
     "iopub.execute_input": "2025-02-06T18:47:39.632245Z",
     "iopub.status.busy": "2025-02-06T18:47:39.631908Z",
     "iopub.status.idle": "2025-02-06T18:47:39.670287Z",
     "shell.execute_reply": "2025-02-06T18:47:39.669281Z"
    },
    "papermill": {
     "duration": 0.048491,
     "end_time": "2025-02-06T18:47:39.672203",
     "exception": false,
     "start_time": "2025-02-06T18:47:39.623712",
     "status": "completed"
    },
    "tags": []
   },
   "outputs": [
    {
     "data": {
      "text/html": [
       "<div>\n",
       "<style scoped>\n",
       "    .dataframe tbody tr th:only-of-type {\n",
       "        vertical-align: middle;\n",
       "    }\n",
       "\n",
       "    .dataframe tbody tr th {\n",
       "        vertical-align: top;\n",
       "    }\n",
       "\n",
       "    .dataframe thead th {\n",
       "        text-align: right;\n",
       "    }\n",
       "</style>\n",
       "<table border=\"1\" class=\"dataframe\">\n",
       "  <thead>\n",
       "    <tr style=\"text-align: right;\">\n",
       "      <th></th>\n",
       "      <th>Pregnancies</th>\n",
       "      <th>Glucose</th>\n",
       "      <th>BloodPressure</th>\n",
       "      <th>SkinThickness</th>\n",
       "      <th>Insulin</th>\n",
       "      <th>BMI</th>\n",
       "      <th>DiabetesPedigreeFunction</th>\n",
       "      <th>Age</th>\n",
       "      <th>Outcome</th>\n",
       "    </tr>\n",
       "  </thead>\n",
       "  <tbody>\n",
       "    <tr>\n",
       "      <th>count</th>\n",
       "      <td>768.000000</td>\n",
       "      <td>768.000000</td>\n",
       "      <td>768.000000</td>\n",
       "      <td>768.000000</td>\n",
       "      <td>768.000000</td>\n",
       "      <td>768.000000</td>\n",
       "      <td>768.000000</td>\n",
       "      <td>768.000000</td>\n",
       "      <td>768.000000</td>\n",
       "    </tr>\n",
       "    <tr>\n",
       "      <th>mean</th>\n",
       "      <td>3.845052</td>\n",
       "      <td>120.894531</td>\n",
       "      <td>69.105469</td>\n",
       "      <td>20.536458</td>\n",
       "      <td>79.799479</td>\n",
       "      <td>31.992578</td>\n",
       "      <td>0.471876</td>\n",
       "      <td>33.240885</td>\n",
       "      <td>0.348958</td>\n",
       "    </tr>\n",
       "    <tr>\n",
       "      <th>std</th>\n",
       "      <td>3.369578</td>\n",
       "      <td>31.972618</td>\n",
       "      <td>19.355807</td>\n",
       "      <td>15.952218</td>\n",
       "      <td>115.244002</td>\n",
       "      <td>7.884160</td>\n",
       "      <td>0.331329</td>\n",
       "      <td>11.760232</td>\n",
       "      <td>0.476951</td>\n",
       "    </tr>\n",
       "    <tr>\n",
       "      <th>min</th>\n",
       "      <td>0.000000</td>\n",
       "      <td>0.000000</td>\n",
       "      <td>0.000000</td>\n",
       "      <td>0.000000</td>\n",
       "      <td>0.000000</td>\n",
       "      <td>0.000000</td>\n",
       "      <td>0.078000</td>\n",
       "      <td>21.000000</td>\n",
       "      <td>0.000000</td>\n",
       "    </tr>\n",
       "    <tr>\n",
       "      <th>25%</th>\n",
       "      <td>1.000000</td>\n",
       "      <td>99.000000</td>\n",
       "      <td>62.000000</td>\n",
       "      <td>0.000000</td>\n",
       "      <td>0.000000</td>\n",
       "      <td>27.300000</td>\n",
       "      <td>0.243750</td>\n",
       "      <td>24.000000</td>\n",
       "      <td>0.000000</td>\n",
       "    </tr>\n",
       "    <tr>\n",
       "      <th>50%</th>\n",
       "      <td>3.000000</td>\n",
       "      <td>117.000000</td>\n",
       "      <td>72.000000</td>\n",
       "      <td>23.000000</td>\n",
       "      <td>30.500000</td>\n",
       "      <td>32.000000</td>\n",
       "      <td>0.372500</td>\n",
       "      <td>29.000000</td>\n",
       "      <td>0.000000</td>\n",
       "    </tr>\n",
       "    <tr>\n",
       "      <th>75%</th>\n",
       "      <td>6.000000</td>\n",
       "      <td>140.250000</td>\n",
       "      <td>80.000000</td>\n",
       "      <td>32.000000</td>\n",
       "      <td>127.250000</td>\n",
       "      <td>36.600000</td>\n",
       "      <td>0.626250</td>\n",
       "      <td>41.000000</td>\n",
       "      <td>1.000000</td>\n",
       "    </tr>\n",
       "    <tr>\n",
       "      <th>max</th>\n",
       "      <td>17.000000</td>\n",
       "      <td>199.000000</td>\n",
       "      <td>122.000000</td>\n",
       "      <td>99.000000</td>\n",
       "      <td>846.000000</td>\n",
       "      <td>67.100000</td>\n",
       "      <td>2.420000</td>\n",
       "      <td>81.000000</td>\n",
       "      <td>1.000000</td>\n",
       "    </tr>\n",
       "  </tbody>\n",
       "</table>\n",
       "</div>"
      ],
      "text/plain": [
       "       Pregnancies     Glucose  BloodPressure  SkinThickness     Insulin  \\\n",
       "count   768.000000  768.000000     768.000000     768.000000  768.000000   \n",
       "mean      3.845052  120.894531      69.105469      20.536458   79.799479   \n",
       "std       3.369578   31.972618      19.355807      15.952218  115.244002   \n",
       "min       0.000000    0.000000       0.000000       0.000000    0.000000   \n",
       "25%       1.000000   99.000000      62.000000       0.000000    0.000000   \n",
       "50%       3.000000  117.000000      72.000000      23.000000   30.500000   \n",
       "75%       6.000000  140.250000      80.000000      32.000000  127.250000   \n",
       "max      17.000000  199.000000     122.000000      99.000000  846.000000   \n",
       "\n",
       "              BMI  DiabetesPedigreeFunction         Age     Outcome  \n",
       "count  768.000000                768.000000  768.000000  768.000000  \n",
       "mean    31.992578                  0.471876   33.240885    0.348958  \n",
       "std      7.884160                  0.331329   11.760232    0.476951  \n",
       "min      0.000000                  0.078000   21.000000    0.000000  \n",
       "25%     27.300000                  0.243750   24.000000    0.000000  \n",
       "50%     32.000000                  0.372500   29.000000    0.000000  \n",
       "75%     36.600000                  0.626250   41.000000    1.000000  \n",
       "max     67.100000                  2.420000   81.000000    1.000000  "
      ]
     },
     "execution_count": 5,
     "metadata": {},
     "output_type": "execute_result"
    }
   ],
   "source": [
    "df.describe()"
   ]
  },
  {
   "cell_type": "code",
   "execution_count": 6,
   "id": "267d1030",
   "metadata": {
    "execution": {
     "iopub.execute_input": "2025-02-06T18:47:39.688072Z",
     "iopub.status.busy": "2025-02-06T18:47:39.687687Z",
     "iopub.status.idle": "2025-02-06T18:47:39.699955Z",
     "shell.execute_reply": "2025-02-06T18:47:39.699018Z"
    },
    "papermill": {
     "duration": 0.021808,
     "end_time": "2025-02-06T18:47:39.701629",
     "exception": false,
     "start_time": "2025-02-06T18:47:39.679821",
     "status": "completed"
    },
    "tags": []
   },
   "outputs": [
    {
     "data": {
      "text/plain": [
       "Outcome\n",
       "0    500\n",
       "1    268\n",
       "Name: count, dtype: int64"
      ]
     },
     "execution_count": 6,
     "metadata": {},
     "output_type": "execute_result"
    }
   ],
   "source": [
    "df['Outcome'].value_counts()"
   ]
  },
  {
   "cell_type": "code",
   "execution_count": 7,
   "id": "6a1a5b0d",
   "metadata": {
    "execution": {
     "iopub.execute_input": "2025-02-06T18:47:39.717211Z",
     "iopub.status.busy": "2025-02-06T18:47:39.716864Z",
     "iopub.status.idle": "2025-02-06T18:47:39.735419Z",
     "shell.execute_reply": "2025-02-06T18:47:39.733981Z"
    },
    "papermill": {
     "duration": 0.028428,
     "end_time": "2025-02-06T18:47:39.737469",
     "exception": false,
     "start_time": "2025-02-06T18:47:39.709041",
     "status": "completed"
    },
    "tags": []
   },
   "outputs": [
    {
     "name": "stdout",
     "output_type": "stream",
     "text": [
      "<class 'pandas.core.frame.DataFrame'>\n",
      "RangeIndex: 768 entries, 0 to 767\n",
      "Data columns (total 9 columns):\n",
      " #   Column                    Non-Null Count  Dtype  \n",
      "---  ------                    --------------  -----  \n",
      " 0   Pregnancies               768 non-null    int64  \n",
      " 1   Glucose                   768 non-null    int64  \n",
      " 2   BloodPressure             768 non-null    int64  \n",
      " 3   SkinThickness             768 non-null    int64  \n",
      " 4   Insulin                   768 non-null    int64  \n",
      " 5   BMI                       768 non-null    float64\n",
      " 6   DiabetesPedigreeFunction  768 non-null    float64\n",
      " 7   Age                       768 non-null    int64  \n",
      " 8   Outcome                   768 non-null    int64  \n",
      "dtypes: float64(2), int64(7)\n",
      "memory usage: 54.1 KB\n"
     ]
    }
   ],
   "source": [
    "df.info()"
   ]
  },
  {
   "cell_type": "markdown",
   "id": "d02cb5b5",
   "metadata": {
    "papermill": {
     "duration": 0.006867,
     "end_time": "2025-02-06T18:47:39.751837",
     "exception": false,
     "start_time": "2025-02-06T18:47:39.744970",
     "status": "completed"
    },
    "tags": []
   },
   "source": [
    "\n",
    "\n",
    "# 0 --> Non-Diabetic\n",
    "# 1 --> Diabetic\n",
    "\n"
   ]
  },
  {
   "cell_type": "code",
   "execution_count": 8,
   "id": "ca021c2b",
   "metadata": {
    "execution": {
     "iopub.execute_input": "2025-02-06T18:47:39.768631Z",
     "iopub.status.busy": "2025-02-06T18:47:39.768271Z",
     "iopub.status.idle": "2025-02-06T18:47:39.786467Z",
     "shell.execute_reply": "2025-02-06T18:47:39.785420Z"
    },
    "papermill": {
     "duration": 0.029115,
     "end_time": "2025-02-06T18:47:39.788468",
     "exception": false,
     "start_time": "2025-02-06T18:47:39.759353",
     "status": "completed"
    },
    "tags": []
   },
   "outputs": [
    {
     "data": {
      "text/html": [
       "<div>\n",
       "<style scoped>\n",
       "    .dataframe tbody tr th:only-of-type {\n",
       "        vertical-align: middle;\n",
       "    }\n",
       "\n",
       "    .dataframe tbody tr th {\n",
       "        vertical-align: top;\n",
       "    }\n",
       "\n",
       "    .dataframe thead th {\n",
       "        text-align: right;\n",
       "    }\n",
       "</style>\n",
       "<table border=\"1\" class=\"dataframe\">\n",
       "  <thead>\n",
       "    <tr style=\"text-align: right;\">\n",
       "      <th></th>\n",
       "      <th>Pregnancies</th>\n",
       "      <th>Glucose</th>\n",
       "      <th>BloodPressure</th>\n",
       "      <th>SkinThickness</th>\n",
       "      <th>Insulin</th>\n",
       "      <th>BMI</th>\n",
       "      <th>DiabetesPedigreeFunction</th>\n",
       "      <th>Age</th>\n",
       "    </tr>\n",
       "    <tr>\n",
       "      <th>Outcome</th>\n",
       "      <th></th>\n",
       "      <th></th>\n",
       "      <th></th>\n",
       "      <th></th>\n",
       "      <th></th>\n",
       "      <th></th>\n",
       "      <th></th>\n",
       "      <th></th>\n",
       "    </tr>\n",
       "  </thead>\n",
       "  <tbody>\n",
       "    <tr>\n",
       "      <th>0</th>\n",
       "      <td>3.298000</td>\n",
       "      <td>109.980000</td>\n",
       "      <td>68.184000</td>\n",
       "      <td>19.664000</td>\n",
       "      <td>68.792000</td>\n",
       "      <td>30.304200</td>\n",
       "      <td>0.429734</td>\n",
       "      <td>31.190000</td>\n",
       "    </tr>\n",
       "    <tr>\n",
       "      <th>1</th>\n",
       "      <td>4.865672</td>\n",
       "      <td>141.257463</td>\n",
       "      <td>70.824627</td>\n",
       "      <td>22.164179</td>\n",
       "      <td>100.335821</td>\n",
       "      <td>35.142537</td>\n",
       "      <td>0.550500</td>\n",
       "      <td>37.067164</td>\n",
       "    </tr>\n",
       "  </tbody>\n",
       "</table>\n",
       "</div>"
      ],
      "text/plain": [
       "         Pregnancies     Glucose  BloodPressure  SkinThickness     Insulin  \\\n",
       "Outcome                                                                      \n",
       "0           3.298000  109.980000      68.184000      19.664000   68.792000   \n",
       "1           4.865672  141.257463      70.824627      22.164179  100.335821   \n",
       "\n",
       "               BMI  DiabetesPedigreeFunction        Age  \n",
       "Outcome                                                  \n",
       "0        30.304200                  0.429734  31.190000  \n",
       "1        35.142537                  0.550500  37.067164  "
      ]
     },
     "execution_count": 8,
     "metadata": {},
     "output_type": "execute_result"
    }
   ],
   "source": [
    "df.groupby('Outcome').mean()"
   ]
  },
  {
   "cell_type": "code",
   "execution_count": 9,
   "id": "de2d9933",
   "metadata": {
    "execution": {
     "iopub.execute_input": "2025-02-06T18:47:39.805583Z",
     "iopub.status.busy": "2025-02-06T18:47:39.805196Z",
     "iopub.status.idle": "2025-02-06T18:47:39.811967Z",
     "shell.execute_reply": "2025-02-06T18:47:39.810957Z"
    },
    "papermill": {
     "duration": 0.017597,
     "end_time": "2025-02-06T18:47:39.813742",
     "exception": false,
     "start_time": "2025-02-06T18:47:39.796145",
     "status": "completed"
    },
    "tags": []
   },
   "outputs": [],
   "source": [
    "# separating the data and labels\n",
    "X = df.drop(columns = 'Outcome', axis = 1)\n",
    "Y = df['Outcome']"
   ]
  },
  {
   "cell_type": "code",
   "execution_count": 10,
   "id": "309e6017",
   "metadata": {
    "execution": {
     "iopub.execute_input": "2025-02-06T18:47:39.830783Z",
     "iopub.status.busy": "2025-02-06T18:47:39.830345Z",
     "iopub.status.idle": "2025-02-06T18:47:39.839831Z",
     "shell.execute_reply": "2025-02-06T18:47:39.838491Z"
    },
    "papermill": {
     "duration": 0.019671,
     "end_time": "2025-02-06T18:47:39.841398",
     "exception": false,
     "start_time": "2025-02-06T18:47:39.821727",
     "status": "completed"
    },
    "tags": []
   },
   "outputs": [
    {
     "name": "stdout",
     "output_type": "stream",
     "text": [
      "     Pregnancies  Glucose  BloodPressure  SkinThickness  Insulin   BMI  \\\n",
      "0              6      148             72             35        0  33.6   \n",
      "1              1       85             66             29        0  26.6   \n",
      "2              8      183             64              0        0  23.3   \n",
      "3              1       89             66             23       94  28.1   \n",
      "4              0      137             40             35      168  43.1   \n",
      "..           ...      ...            ...            ...      ...   ...   \n",
      "763           10      101             76             48      180  32.9   \n",
      "764            2      122             70             27        0  36.8   \n",
      "765            5      121             72             23      112  26.2   \n",
      "766            1      126             60              0        0  30.1   \n",
      "767            1       93             70             31        0  30.4   \n",
      "\n",
      "     DiabetesPedigreeFunction  Age  \n",
      "0                       0.627   50  \n",
      "1                       0.351   31  \n",
      "2                       0.672   32  \n",
      "3                       0.167   21  \n",
      "4                       2.288   33  \n",
      "..                        ...  ...  \n",
      "763                     0.171   63  \n",
      "764                     0.340   27  \n",
      "765                     0.245   30  \n",
      "766                     0.349   47  \n",
      "767                     0.315   23  \n",
      "\n",
      "[768 rows x 8 columns]\n"
     ]
    }
   ],
   "source": [
    "print(X)"
   ]
  },
  {
   "cell_type": "code",
   "execution_count": 11,
   "id": "78197585",
   "metadata": {
    "execution": {
     "iopub.execute_input": "2025-02-06T18:47:39.857756Z",
     "iopub.status.busy": "2025-02-06T18:47:39.857290Z",
     "iopub.status.idle": "2025-02-06T18:47:39.863903Z",
     "shell.execute_reply": "2025-02-06T18:47:39.862564Z"
    },
    "papermill": {
     "duration": 0.016468,
     "end_time": "2025-02-06T18:47:39.865472",
     "exception": false,
     "start_time": "2025-02-06T18:47:39.849004",
     "status": "completed"
    },
    "tags": []
   },
   "outputs": [
    {
     "name": "stdout",
     "output_type": "stream",
     "text": [
      "0      1\n",
      "1      0\n",
      "2      1\n",
      "3      0\n",
      "4      1\n",
      "      ..\n",
      "763    0\n",
      "764    0\n",
      "765    0\n",
      "766    1\n",
      "767    0\n",
      "Name: Outcome, Length: 768, dtype: int64\n"
     ]
    }
   ],
   "source": [
    "print(Y)"
   ]
  },
  {
   "cell_type": "markdown",
   "id": "a488becd",
   "metadata": {
    "papermill": {
     "duration": 0.007161,
     "end_time": "2025-02-06T18:47:39.880265",
     "exception": false,
     "start_time": "2025-02-06T18:47:39.873104",
     "status": "completed"
    },
    "tags": []
   },
   "source": [
    "# Data Standardization "
   ]
  },
  {
   "cell_type": "code",
   "execution_count": 12,
   "id": "5b1b9b13",
   "metadata": {
    "execution": {
     "iopub.execute_input": "2025-02-06T18:47:39.896614Z",
     "iopub.status.busy": "2025-02-06T18:47:39.896257Z",
     "iopub.status.idle": "2025-02-06T18:47:39.900595Z",
     "shell.execute_reply": "2025-02-06T18:47:39.899578Z"
    },
    "papermill": {
     "duration": 0.014596,
     "end_time": "2025-02-06T18:47:39.902417",
     "exception": false,
     "start_time": "2025-02-06T18:47:39.887821",
     "status": "completed"
    },
    "tags": []
   },
   "outputs": [],
   "source": [
    "scaler = StandardScaler()"
   ]
  },
  {
   "cell_type": "code",
   "execution_count": 13,
   "id": "547adf2d",
   "metadata": {
    "execution": {
     "iopub.execute_input": "2025-02-06T18:47:39.919158Z",
     "iopub.status.busy": "2025-02-06T18:47:39.918790Z",
     "iopub.status.idle": "2025-02-06T18:47:39.933062Z",
     "shell.execute_reply": "2025-02-06T18:47:39.931951Z"
    },
    "papermill": {
     "duration": 0.024515,
     "end_time": "2025-02-06T18:47:39.934962",
     "exception": false,
     "start_time": "2025-02-06T18:47:39.910447",
     "status": "completed"
    },
    "tags": []
   },
   "outputs": [
    {
     "data": {
      "text/html": [
       "<style>#sk-container-id-1 {color: black;background-color: white;}#sk-container-id-1 pre{padding: 0;}#sk-container-id-1 div.sk-toggleable {background-color: white;}#sk-container-id-1 label.sk-toggleable__label {cursor: pointer;display: block;width: 100%;margin-bottom: 0;padding: 0.3em;box-sizing: border-box;text-align: center;}#sk-container-id-1 label.sk-toggleable__label-arrow:before {content: \"▸\";float: left;margin-right: 0.25em;color: #696969;}#sk-container-id-1 label.sk-toggleable__label-arrow:hover:before {color: black;}#sk-container-id-1 div.sk-estimator:hover label.sk-toggleable__label-arrow:before {color: black;}#sk-container-id-1 div.sk-toggleable__content {max-height: 0;max-width: 0;overflow: hidden;text-align: left;background-color: #f0f8ff;}#sk-container-id-1 div.sk-toggleable__content pre {margin: 0.2em;color: black;border-radius: 0.25em;background-color: #f0f8ff;}#sk-container-id-1 input.sk-toggleable__control:checked~div.sk-toggleable__content {max-height: 200px;max-width: 100%;overflow: auto;}#sk-container-id-1 input.sk-toggleable__control:checked~label.sk-toggleable__label-arrow:before {content: \"▾\";}#sk-container-id-1 div.sk-estimator input.sk-toggleable__control:checked~label.sk-toggleable__label {background-color: #d4ebff;}#sk-container-id-1 div.sk-label input.sk-toggleable__control:checked~label.sk-toggleable__label {background-color: #d4ebff;}#sk-container-id-1 input.sk-hidden--visually {border: 0;clip: rect(1px 1px 1px 1px);clip: rect(1px, 1px, 1px, 1px);height: 1px;margin: -1px;overflow: hidden;padding: 0;position: absolute;width: 1px;}#sk-container-id-1 div.sk-estimator {font-family: monospace;background-color: #f0f8ff;border: 1px dotted black;border-radius: 0.25em;box-sizing: border-box;margin-bottom: 0.5em;}#sk-container-id-1 div.sk-estimator:hover {background-color: #d4ebff;}#sk-container-id-1 div.sk-parallel-item::after {content: \"\";width: 100%;border-bottom: 1px solid gray;flex-grow: 1;}#sk-container-id-1 div.sk-label:hover label.sk-toggleable__label {background-color: #d4ebff;}#sk-container-id-1 div.sk-serial::before {content: \"\";position: absolute;border-left: 1px solid gray;box-sizing: border-box;top: 0;bottom: 0;left: 50%;z-index: 0;}#sk-container-id-1 div.sk-serial {display: flex;flex-direction: column;align-items: center;background-color: white;padding-right: 0.2em;padding-left: 0.2em;position: relative;}#sk-container-id-1 div.sk-item {position: relative;z-index: 1;}#sk-container-id-1 div.sk-parallel {display: flex;align-items: stretch;justify-content: center;background-color: white;position: relative;}#sk-container-id-1 div.sk-item::before, #sk-container-id-1 div.sk-parallel-item::before {content: \"\";position: absolute;border-left: 1px solid gray;box-sizing: border-box;top: 0;bottom: 0;left: 50%;z-index: -1;}#sk-container-id-1 div.sk-parallel-item {display: flex;flex-direction: column;z-index: 1;position: relative;background-color: white;}#sk-container-id-1 div.sk-parallel-item:first-child::after {align-self: flex-end;width: 50%;}#sk-container-id-1 div.sk-parallel-item:last-child::after {align-self: flex-start;width: 50%;}#sk-container-id-1 div.sk-parallel-item:only-child::after {width: 0;}#sk-container-id-1 div.sk-dashed-wrapped {border: 1px dashed gray;margin: 0 0.4em 0.5em 0.4em;box-sizing: border-box;padding-bottom: 0.4em;background-color: white;}#sk-container-id-1 div.sk-label label {font-family: monospace;font-weight: bold;display: inline-block;line-height: 1.2em;}#sk-container-id-1 div.sk-label-container {text-align: center;}#sk-container-id-1 div.sk-container {/* jupyter's `normalize.less` sets `[hidden] { display: none; }` but bootstrap.min.css set `[hidden] { display: none !important; }` so we also need the `!important` here to be able to override the default hidden behavior on the sphinx rendered scikit-learn.org. See: https://github.com/scikit-learn/scikit-learn/issues/21755 */display: inline-block !important;position: relative;}#sk-container-id-1 div.sk-text-repr-fallback {display: none;}</style><div id=\"sk-container-id-1\" class=\"sk-top-container\"><div class=\"sk-text-repr-fallback\"><pre>StandardScaler()</pre><b>In a Jupyter environment, please rerun this cell to show the HTML representation or trust the notebook. <br />On GitHub, the HTML representation is unable to render, please try loading this page with nbviewer.org.</b></div><div class=\"sk-container\" hidden><div class=\"sk-item\"><div class=\"sk-estimator sk-toggleable\"><input class=\"sk-toggleable__control sk-hidden--visually\" id=\"sk-estimator-id-1\" type=\"checkbox\" checked><label for=\"sk-estimator-id-1\" class=\"sk-toggleable__label sk-toggleable__label-arrow\">StandardScaler</label><div class=\"sk-toggleable__content\"><pre>StandardScaler()</pre></div></div></div></div></div>"
      ],
      "text/plain": [
       "StandardScaler()"
      ]
     },
     "execution_count": 13,
     "metadata": {},
     "output_type": "execute_result"
    }
   ],
   "source": [
    "scaler.fit(X)"
   ]
  },
  {
   "cell_type": "code",
   "execution_count": 14,
   "id": "a8783d3b",
   "metadata": {
    "execution": {
     "iopub.execute_input": "2025-02-06T18:47:39.952353Z",
     "iopub.status.busy": "2025-02-06T18:47:39.951980Z",
     "iopub.status.idle": "2025-02-06T18:47:39.958643Z",
     "shell.execute_reply": "2025-02-06T18:47:39.957482Z"
    },
    "papermill": {
     "duration": 0.017517,
     "end_time": "2025-02-06T18:47:39.960635",
     "exception": false,
     "start_time": "2025-02-06T18:47:39.943118",
     "status": "completed"
    },
    "tags": []
   },
   "outputs": [],
   "source": [
    "stanndardized_data = scaler.transform(X)"
   ]
  },
  {
   "cell_type": "code",
   "execution_count": 15,
   "id": "e73a6e99",
   "metadata": {
    "execution": {
     "iopub.execute_input": "2025-02-06T18:47:39.978756Z",
     "iopub.status.busy": "2025-02-06T18:47:39.978307Z",
     "iopub.status.idle": "2025-02-06T18:47:39.985359Z",
     "shell.execute_reply": "2025-02-06T18:47:39.984266Z"
    },
    "papermill": {
     "duration": 0.018539,
     "end_time": "2025-02-06T18:47:39.987126",
     "exception": false,
     "start_time": "2025-02-06T18:47:39.968587",
     "status": "completed"
    },
    "tags": []
   },
   "outputs": [
    {
     "data": {
      "text/plain": [
       "array([[ 0.63994726,  0.84832379,  0.14964075, ...,  0.20401277,\n",
       "         0.46849198,  1.4259954 ],\n",
       "       [-0.84488505, -1.12339636, -0.16054575, ..., -0.68442195,\n",
       "        -0.36506078, -0.19067191],\n",
       "       [ 1.23388019,  1.94372388, -0.26394125, ..., -1.10325546,\n",
       "         0.60439732, -0.10558415],\n",
       "       ...,\n",
       "       [ 0.3429808 ,  0.00330087,  0.14964075, ..., -0.73518964,\n",
       "        -0.68519336, -0.27575966],\n",
       "       [-0.84488505,  0.1597866 , -0.47073225, ..., -0.24020459,\n",
       "        -0.37110101,  1.17073215],\n",
       "       [-0.84488505, -0.8730192 ,  0.04624525, ..., -0.20212881,\n",
       "        -0.47378505, -0.87137393]])"
      ]
     },
     "execution_count": 15,
     "metadata": {},
     "output_type": "execute_result"
    }
   ],
   "source": [
    "stanndardized_data"
   ]
  },
  {
   "cell_type": "code",
   "execution_count": 16,
   "id": "b918f03e",
   "metadata": {
    "execution": {
     "iopub.execute_input": "2025-02-06T18:47:40.004720Z",
     "iopub.status.busy": "2025-02-06T18:47:40.004222Z",
     "iopub.status.idle": "2025-02-06T18:47:40.008807Z",
     "shell.execute_reply": "2025-02-06T18:47:40.007721Z"
    },
    "papermill": {
     "duration": 0.01532,
     "end_time": "2025-02-06T18:47:40.010573",
     "exception": false,
     "start_time": "2025-02-06T18:47:39.995253",
     "status": "completed"
    },
    "tags": []
   },
   "outputs": [],
   "source": [
    "X = stanndardized_data\n",
    "Y = df['Outcome']"
   ]
  },
  {
   "cell_type": "code",
   "execution_count": 17,
   "id": "07097eb7",
   "metadata": {
    "execution": {
     "iopub.execute_input": "2025-02-06T18:47:40.027740Z",
     "iopub.status.busy": "2025-02-06T18:47:40.027356Z",
     "iopub.status.idle": "2025-02-06T18:47:40.034348Z",
     "shell.execute_reply": "2025-02-06T18:47:40.033008Z"
    },
    "papermill": {
     "duration": 0.017464,
     "end_time": "2025-02-06T18:47:40.036177",
     "exception": false,
     "start_time": "2025-02-06T18:47:40.018713",
     "status": "completed"
    },
    "tags": []
   },
   "outputs": [
    {
     "name": "stdout",
     "output_type": "stream",
     "text": [
      "[[ 0.63994726  0.84832379  0.14964075 ...  0.20401277  0.46849198\n",
      "   1.4259954 ]\n",
      " [-0.84488505 -1.12339636 -0.16054575 ... -0.68442195 -0.36506078\n",
      "  -0.19067191]\n",
      " [ 1.23388019  1.94372388 -0.26394125 ... -1.10325546  0.60439732\n",
      "  -0.10558415]\n",
      " ...\n",
      " [ 0.3429808   0.00330087  0.14964075 ... -0.73518964 -0.68519336\n",
      "  -0.27575966]\n",
      " [-0.84488505  0.1597866  -0.47073225 ... -0.24020459 -0.37110101\n",
      "   1.17073215]\n",
      " [-0.84488505 -0.8730192   0.04624525 ... -0.20212881 -0.47378505\n",
      "  -0.87137393]]\n",
      "0      1\n",
      "1      0\n",
      "2      1\n",
      "3      0\n",
      "4      1\n",
      "      ..\n",
      "763    0\n",
      "764    0\n",
      "765    0\n",
      "766    1\n",
      "767    0\n",
      "Name: Outcome, Length: 768, dtype: int64\n"
     ]
    }
   ],
   "source": [
    "print(X)\n",
    "print(Y)"
   ]
  },
  {
   "cell_type": "markdown",
   "id": "bb2dea82",
   "metadata": {
    "papermill": {
     "duration": 0.007853,
     "end_time": "2025-02-06T18:47:40.052100",
     "exception": false,
     "start_time": "2025-02-06T18:47:40.044247",
     "status": "completed"
    },
    "tags": []
   },
   "source": [
    "# Train Test Split"
   ]
  },
  {
   "cell_type": "code",
   "execution_count": 18,
   "id": "6b90a29b",
   "metadata": {
    "execution": {
     "iopub.execute_input": "2025-02-06T18:47:40.070310Z",
     "iopub.status.busy": "2025-02-06T18:47:40.069969Z",
     "iopub.status.idle": "2025-02-06T18:47:40.077048Z",
     "shell.execute_reply": "2025-02-06T18:47:40.075988Z"
    },
    "papermill": {
     "duration": 0.018395,
     "end_time": "2025-02-06T18:47:40.078721",
     "exception": false,
     "start_time": "2025-02-06T18:47:40.060326",
     "status": "completed"
    },
    "tags": []
   },
   "outputs": [],
   "source": [
    "X_train, X_test, Y_train, Y_test = train_test_split(X, Y, test_size = 0.2, stratify = Y, random_state = 2)"
   ]
  },
  {
   "cell_type": "code",
   "execution_count": 19,
   "id": "f2f65e19",
   "metadata": {
    "execution": {
     "iopub.execute_input": "2025-02-06T18:47:40.096334Z",
     "iopub.status.busy": "2025-02-06T18:47:40.095959Z",
     "iopub.status.idle": "2025-02-06T18:47:40.102249Z",
     "shell.execute_reply": "2025-02-06T18:47:40.101214Z"
    },
    "papermill": {
     "duration": 0.017205,
     "end_time": "2025-02-06T18:47:40.104021",
     "exception": false,
     "start_time": "2025-02-06T18:47:40.086816",
     "status": "completed"
    },
    "tags": []
   },
   "outputs": [
    {
     "data": {
      "text/plain": [
       "((768, 8), (154, 8), (614,), (154,))"
      ]
     },
     "execution_count": 19,
     "metadata": {},
     "output_type": "execute_result"
    }
   ],
   "source": [
    "X.shape, X_test.shape, Y_train.shape, Y_test.shape"
   ]
  },
  {
   "cell_type": "markdown",
   "id": "f9749500",
   "metadata": {
    "papermill": {
     "duration": 0.00832,
     "end_time": "2025-02-06T18:47:40.120818",
     "exception": false,
     "start_time": "2025-02-06T18:47:40.112498",
     "status": "completed"
    },
    "tags": []
   },
   "source": [
    "# Training The Model"
   ]
  },
  {
   "cell_type": "code",
   "execution_count": 20,
   "id": "1f1c938c",
   "metadata": {
    "execution": {
     "iopub.execute_input": "2025-02-06T18:47:40.139217Z",
     "iopub.status.busy": "2025-02-06T18:47:40.138791Z",
     "iopub.status.idle": "2025-02-06T18:47:40.143405Z",
     "shell.execute_reply": "2025-02-06T18:47:40.142330Z"
    },
    "papermill": {
     "duration": 0.015653,
     "end_time": "2025-02-06T18:47:40.145141",
     "exception": false,
     "start_time": "2025-02-06T18:47:40.129488",
     "status": "completed"
    },
    "tags": []
   },
   "outputs": [],
   "source": [
    "classifier = svm.SVC(kernel = 'linear')"
   ]
  },
  {
   "cell_type": "markdown",
   "id": "8165de1d",
   "metadata": {
    "papermill": {
     "duration": 0.007862,
     "end_time": "2025-02-06T18:47:40.161270",
     "exception": false,
     "start_time": "2025-02-06T18:47:40.153408",
     "status": "completed"
    },
    "tags": []
   },
   "source": [
    "Train the support vector Machine Classifier"
   ]
  },
  {
   "cell_type": "code",
   "execution_count": 21,
   "id": "32e3e83e",
   "metadata": {
    "execution": {
     "iopub.execute_input": "2025-02-06T18:47:40.179730Z",
     "iopub.status.busy": "2025-02-06T18:47:40.179342Z",
     "iopub.status.idle": "2025-02-06T18:47:40.203430Z",
     "shell.execute_reply": "2025-02-06T18:47:40.202342Z"
    },
    "papermill": {
     "duration": 0.035055,
     "end_time": "2025-02-06T18:47:40.205238",
     "exception": false,
     "start_time": "2025-02-06T18:47:40.170183",
     "status": "completed"
    },
    "tags": []
   },
   "outputs": [
    {
     "data": {
      "text/html": [
       "<style>#sk-container-id-2 {color: black;background-color: white;}#sk-container-id-2 pre{padding: 0;}#sk-container-id-2 div.sk-toggleable {background-color: white;}#sk-container-id-2 label.sk-toggleable__label {cursor: pointer;display: block;width: 100%;margin-bottom: 0;padding: 0.3em;box-sizing: border-box;text-align: center;}#sk-container-id-2 label.sk-toggleable__label-arrow:before {content: \"▸\";float: left;margin-right: 0.25em;color: #696969;}#sk-container-id-2 label.sk-toggleable__label-arrow:hover:before {color: black;}#sk-container-id-2 div.sk-estimator:hover label.sk-toggleable__label-arrow:before {color: black;}#sk-container-id-2 div.sk-toggleable__content {max-height: 0;max-width: 0;overflow: hidden;text-align: left;background-color: #f0f8ff;}#sk-container-id-2 div.sk-toggleable__content pre {margin: 0.2em;color: black;border-radius: 0.25em;background-color: #f0f8ff;}#sk-container-id-2 input.sk-toggleable__control:checked~div.sk-toggleable__content {max-height: 200px;max-width: 100%;overflow: auto;}#sk-container-id-2 input.sk-toggleable__control:checked~label.sk-toggleable__label-arrow:before {content: \"▾\";}#sk-container-id-2 div.sk-estimator input.sk-toggleable__control:checked~label.sk-toggleable__label {background-color: #d4ebff;}#sk-container-id-2 div.sk-label input.sk-toggleable__control:checked~label.sk-toggleable__label {background-color: #d4ebff;}#sk-container-id-2 input.sk-hidden--visually {border: 0;clip: rect(1px 1px 1px 1px);clip: rect(1px, 1px, 1px, 1px);height: 1px;margin: -1px;overflow: hidden;padding: 0;position: absolute;width: 1px;}#sk-container-id-2 div.sk-estimator {font-family: monospace;background-color: #f0f8ff;border: 1px dotted black;border-radius: 0.25em;box-sizing: border-box;margin-bottom: 0.5em;}#sk-container-id-2 div.sk-estimator:hover {background-color: #d4ebff;}#sk-container-id-2 div.sk-parallel-item::after {content: \"\";width: 100%;border-bottom: 1px solid gray;flex-grow: 1;}#sk-container-id-2 div.sk-label:hover label.sk-toggleable__label {background-color: #d4ebff;}#sk-container-id-2 div.sk-serial::before {content: \"\";position: absolute;border-left: 1px solid gray;box-sizing: border-box;top: 0;bottom: 0;left: 50%;z-index: 0;}#sk-container-id-2 div.sk-serial {display: flex;flex-direction: column;align-items: center;background-color: white;padding-right: 0.2em;padding-left: 0.2em;position: relative;}#sk-container-id-2 div.sk-item {position: relative;z-index: 1;}#sk-container-id-2 div.sk-parallel {display: flex;align-items: stretch;justify-content: center;background-color: white;position: relative;}#sk-container-id-2 div.sk-item::before, #sk-container-id-2 div.sk-parallel-item::before {content: \"\";position: absolute;border-left: 1px solid gray;box-sizing: border-box;top: 0;bottom: 0;left: 50%;z-index: -1;}#sk-container-id-2 div.sk-parallel-item {display: flex;flex-direction: column;z-index: 1;position: relative;background-color: white;}#sk-container-id-2 div.sk-parallel-item:first-child::after {align-self: flex-end;width: 50%;}#sk-container-id-2 div.sk-parallel-item:last-child::after {align-self: flex-start;width: 50%;}#sk-container-id-2 div.sk-parallel-item:only-child::after {width: 0;}#sk-container-id-2 div.sk-dashed-wrapped {border: 1px dashed gray;margin: 0 0.4em 0.5em 0.4em;box-sizing: border-box;padding-bottom: 0.4em;background-color: white;}#sk-container-id-2 div.sk-label label {font-family: monospace;font-weight: bold;display: inline-block;line-height: 1.2em;}#sk-container-id-2 div.sk-label-container {text-align: center;}#sk-container-id-2 div.sk-container {/* jupyter's `normalize.less` sets `[hidden] { display: none; }` but bootstrap.min.css set `[hidden] { display: none !important; }` so we also need the `!important` here to be able to override the default hidden behavior on the sphinx rendered scikit-learn.org. See: https://github.com/scikit-learn/scikit-learn/issues/21755 */display: inline-block !important;position: relative;}#sk-container-id-2 div.sk-text-repr-fallback {display: none;}</style><div id=\"sk-container-id-2\" class=\"sk-top-container\"><div class=\"sk-text-repr-fallback\"><pre>SVC(kernel=&#x27;linear&#x27;)</pre><b>In a Jupyter environment, please rerun this cell to show the HTML representation or trust the notebook. <br />On GitHub, the HTML representation is unable to render, please try loading this page with nbviewer.org.</b></div><div class=\"sk-container\" hidden><div class=\"sk-item\"><div class=\"sk-estimator sk-toggleable\"><input class=\"sk-toggleable__control sk-hidden--visually\" id=\"sk-estimator-id-2\" type=\"checkbox\" checked><label for=\"sk-estimator-id-2\" class=\"sk-toggleable__label sk-toggleable__label-arrow\">SVC</label><div class=\"sk-toggleable__content\"><pre>SVC(kernel=&#x27;linear&#x27;)</pre></div></div></div></div></div>"
      ],
      "text/plain": [
       "SVC(kernel='linear')"
      ]
     },
     "execution_count": 21,
     "metadata": {},
     "output_type": "execute_result"
    }
   ],
   "source": [
    "classifier.fit(X_train, Y_train)"
   ]
  },
  {
   "cell_type": "markdown",
   "id": "27f6a029",
   "metadata": {
    "papermill": {
     "duration": 0.007756,
     "end_time": "2025-02-06T18:47:40.221468",
     "exception": false,
     "start_time": "2025-02-06T18:47:40.213712",
     "status": "completed"
    },
    "tags": []
   },
   "source": [
    "# Model Evalution"
   ]
  },
  {
   "cell_type": "markdown",
   "id": "8fcaa027",
   "metadata": {
    "papermill": {
     "duration": 0.008003,
     "end_time": "2025-02-06T18:47:40.237627",
     "exception": false,
     "start_time": "2025-02-06T18:47:40.229624",
     "status": "completed"
    },
    "tags": []
   },
   "source": [
    "Accuracy Score"
   ]
  },
  {
   "cell_type": "code",
   "execution_count": 22,
   "id": "5cc8c274",
   "metadata": {
    "execution": {
     "iopub.execute_input": "2025-02-06T18:47:40.256639Z",
     "iopub.status.busy": "2025-02-06T18:47:40.256267Z",
     "iopub.status.idle": "2025-02-06T18:47:40.267294Z",
     "shell.execute_reply": "2025-02-06T18:47:40.266265Z"
    },
    "papermill": {
     "duration": 0.023481,
     "end_time": "2025-02-06T18:47:40.269373",
     "exception": false,
     "start_time": "2025-02-06T18:47:40.245892",
     "status": "completed"
    },
    "tags": []
   },
   "outputs": [],
   "source": [
    "# Accuracy score pn the training data\n",
    "x_train_predict = classifier.predict(X_train)\n",
    "training_data_accurancy = accuracy_score(x_train_predict, Y_train)"
   ]
  },
  {
   "cell_type": "code",
   "execution_count": 23,
   "id": "85957184",
   "metadata": {
    "execution": {
     "iopub.execute_input": "2025-02-06T18:47:40.287498Z",
     "iopub.status.busy": "2025-02-06T18:47:40.287121Z",
     "iopub.status.idle": "2025-02-06T18:47:40.292485Z",
     "shell.execute_reply": "2025-02-06T18:47:40.291137Z"
    },
    "papermill": {
     "duration": 0.016342,
     "end_time": "2025-02-06T18:47:40.294254",
     "exception": false,
     "start_time": "2025-02-06T18:47:40.277912",
     "status": "completed"
    },
    "tags": []
   },
   "outputs": [
    {
     "name": "stdout",
     "output_type": "stream",
     "text": [
      "Accuracy score of the training Data : 0.7866449511400652\n"
     ]
    }
   ],
   "source": [
    "print('Accuracy score of the training Data :', training_data_accurancy)"
   ]
  },
  {
   "cell_type": "code",
   "execution_count": 24,
   "id": "0d6b3678",
   "metadata": {
    "execution": {
     "iopub.execute_input": "2025-02-06T18:47:40.312614Z",
     "iopub.status.busy": "2025-02-06T18:47:40.312232Z",
     "iopub.status.idle": "2025-02-06T18:47:40.320311Z",
     "shell.execute_reply": "2025-02-06T18:47:40.319152Z"
    },
    "papermill": {
     "duration": 0.019511,
     "end_time": "2025-02-06T18:47:40.322214",
     "exception": false,
     "start_time": "2025-02-06T18:47:40.302703",
     "status": "completed"
    },
    "tags": []
   },
   "outputs": [
    {
     "name": "stdout",
     "output_type": "stream",
     "text": [
      "Accuracy score of the test Data : 0.7727272727272727\n"
     ]
    }
   ],
   "source": [
    "# Accuracy score pn the test data\n",
    "x_test_predict = classifier.predict(X_test)\n",
    "training_data_accurancy = accuracy_score(x_test_predict, Y_test)\n",
    "print('Accuracy score of the test Data :', training_data_accurancy)"
   ]
  },
  {
   "cell_type": "code",
   "execution_count": 25,
   "id": "8ab55df7",
   "metadata": {
    "execution": {
     "iopub.execute_input": "2025-02-06T18:47:40.340339Z",
     "iopub.status.busy": "2025-02-06T18:47:40.339981Z",
     "iopub.status.idle": "2025-02-06T18:47:40.349869Z",
     "shell.execute_reply": "2025-02-06T18:47:40.348566Z"
    },
    "papermill": {
     "duration": 0.021116,
     "end_time": "2025-02-06T18:47:40.351744",
     "exception": false,
     "start_time": "2025-02-06T18:47:40.330628",
     "status": "completed"
    },
    "tags": []
   },
   "outputs": [
    {
     "name": "stdout",
     "output_type": "stream",
     "text": [
      "[[ 0.3429808   1.41167241  0.14964075 -0.09637905  0.82661621 -0.78595734\n",
      "   0.34768723  1.51108316]]\n",
      "[1]\n",
      "The person is diabetic\n"
     ]
    },
    {
     "name": "stderr",
     "output_type": "stream",
     "text": [
      "/usr/local/lib/python3.10/dist-packages/sklearn/base.py:439: UserWarning: X does not have valid feature names, but StandardScaler was fitted with feature names\n",
      "  warnings.warn(\n"
     ]
    }
   ],
   "source": [
    "input_data = (5,166,72,19,175,25.8,0.587,51)\n",
    "\n",
    "# changing the input_data to numpy array\n",
    "input_data_as_numpy_array = np.asarray(input_data)\n",
    "\n",
    "# reshape the array as we are predicting for one instance\n",
    "input_data_reshaped = input_data_as_numpy_array.reshape(1,-1)\n",
    "\n",
    "# standardize the input data\n",
    "std_data = scaler.transform(input_data_reshaped)\n",
    "print(std_data)\n",
    "\n",
    "prediction = classifier.predict(std_data)\n",
    "print(prediction)\n",
    "\n",
    "if (prediction[0] == 0):\n",
    "  print('The person is not diabetic')\n",
    "else:\n",
    "  print('The person is diabetic')"
   ]
  },
  {
   "cell_type": "code",
   "execution_count": null,
   "id": "b09d38a7",
   "metadata": {
    "papermill": {
     "duration": 0.008011,
     "end_time": "2025-02-06T18:47:40.368252",
     "exception": false,
     "start_time": "2025-02-06T18:47:40.360241",
     "status": "completed"
    },
    "tags": []
   },
   "outputs": [],
   "source": []
  }
 ],
 "metadata": {
  "kaggle": {
   "accelerator": "none",
   "dataSources": [
    {
     "datasetId": 3919186,
     "sourceId": 6812878,
     "sourceType": "datasetVersion"
    }
   ],
   "dockerImageVersionId": 30839,
   "isGpuEnabled": false,
   "isInternetEnabled": true,
   "language": "python",
   "sourceType": "notebook"
  },
  "kernelspec": {
   "display_name": "Python 3",
   "language": "python",
   "name": "python3"
  },
  "language_info": {
   "codemirror_mode": {
    "name": "ipython",
    "version": 3
   },
   "file_extension": ".py",
   "mimetype": "text/x-python",
   "name": "python",
   "nbconvert_exporter": "python",
   "pygments_lexer": "ipython3",
   "version": "3.10.12"
  },
  "papermill": {
   "default_parameters": {},
   "duration": 6.811009,
   "end_time": "2025-02-06T18:47:41.098281",
   "environment_variables": {},
   "exception": null,
   "input_path": "__notebook__.ipynb",
   "output_path": "__notebook__.ipynb",
   "parameters": {},
   "start_time": "2025-02-06T18:47:34.287272",
   "version": "2.6.0"
  }
 },
 "nbformat": 4,
 "nbformat_minor": 5
}
